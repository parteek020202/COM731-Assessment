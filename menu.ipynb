{
 "cells": [
  {
   "cell_type": "code",
   "execution_count": null,
   "id": "c79c89d5-cefe-4292-ae09-56560b9714dd",
   "metadata": {},
   "outputs": [
    {
     "name": "stdout",
     "output_type": "stream",
     "text": [
      "\n",
      "----MENU----\n",
      "1. Load Data\n",
      "2. Retrieve Patient's Info (Age, Gender, Smoking history and Ethnicity)\n",
      "3. Retrieve Medical History\n",
      "4. Retrieve Treatment details\n",
      "5. Retrieve specific info\n",
      "6. EXIT\n"
     ]
    },
    {
     "name": "stdin",
     "output_type": "stream",
     "text": [
      "Please choose one option 1\n"
     ]
    }
   ],
   "source": [
    "import task_a\n",
    "def menu():\n",
    "    data_list = None\n",
    "    while True:\n",
    "        print(\"\\n----MENU----\")\n",
    "        print(\"1. Load Data\")\n",
    "        print(\"2. Retrieve Patient's Info (Age, Gender, Smoking history and Ethnicity)\")\n",
    "        print(\"3. Retrieve Medical History\")\n",
    "        print(\"4. Retrieve Treatment details\")\n",
    "        print(\"5. Retrieve specific info\")\n",
    "        print(\"6. EXIT\")\n",
    "        choice = input(\"Please choose one option\")\n",
    "        if choice == \"1\":\n",
    "            file_path = input(\"Please enter the file path/name:\")\n",
    "            data_list = task_a.load_data(file_path)\n",
    "            if data_list:\n",
    "                print(\"Data Loaded Successfully!\")\n",
    "            else:\n",
    "                print(\"Failed to Load data! Please check the entered file path.\")\n",
    "        elif choice == \"2\":\n",
    "            if data_list:\n",
    "                patient_id = input(\"Please enter the Patient ID:\")\n",
    "                result = task_a.retrieve_patient_info(data_list, patient_id)\n",
    "                print(result)\n",
    "            else:\n",
    "                print(\"Please load the data first!\")\n",
    "\n",
    "\n",
    "        \n",
    "        elif choice == \"3\":\n",
    "            print(\"Exiting the Program! BYE BYE !\")\n",
    "            break\n",
    "\n",
    "        else:\n",
    "            print(\"INVALID CHOICE! Please enter the correct input\")\n"
   ]
  },
  {
   "cell_type": "code",
   "execution_count": null,
   "id": "f9bd0e3d-200e-4fcd-a00f-615aee81af95",
   "metadata": {},
   "outputs": [],
   "source": []
  },
  {
   "cell_type": "code",
   "execution_count": null,
   "id": "a92e7d30-af3c-4a57-9db5-a547be9a92a1",
   "metadata": {},
   "outputs": [],
   "source": []
  }
 ],
 "metadata": {
  "kernelspec": {
   "display_name": "COM731",
   "language": "python",
   "name": "com731"
  },
  "language_info": {
   "codemirror_mode": {
    "name": "ipython",
    "version": 3
   },
   "file_extension": ".py",
   "mimetype": "text/x-python",
   "name": "python",
   "nbconvert_exporter": "python",
   "pygments_lexer": "ipython3",
   "version": "3.10.14"
  }
 },
 "nbformat": 4,
 "nbformat_minor": 5
}
