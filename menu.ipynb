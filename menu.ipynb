{
 "cells": [
  {
   "cell_type": "code",
   "execution_count": 1,
   "id": "d4fdf639-4fb4-4983-babc-7f702ea1ed0a",
   "metadata": {},
   "outputs": [],
   "source": [
    "import task_a\n",
    "import pandas as pd\n",
    "def main_menu():\n",
    "    while True:\n",
    "        print(\"\\n----MAIN MENU----\")\n",
    "        print(\"1. Load Data\")\n",
    "        print(\"2. Retrieve general Information about the patients (TASK A: Basic python functions)\")\n",
    "        print(\"3. Load and Analyse the Data (TASK B: Using pandas\")\n",
    "        print(\"4. Visualise the Data (TASK C: Using matplotlib\")\n",
    "        print(\"5. Exit the program\")\n",
    "        option = input(\"Please choose one option: \")\n",
    "        if option==\"1\":\n",
    "             file_path = input(\"Please enter the file path/name:\")\n",
    "             data_list = task_a.load_data(file_path)\n",
    "             if data_list:\n",
    "                 print(\"Data Loaded Successfully!\")\n",
    "             else:\n",
    "                 print(\"Failed to Load data! Please check the entered file path.\")\n",
    "        elif option==\"2\":\n",
    "            if data_list is None:\n",
    "                print(\"Please load the data first using option 1\")\n",
    "            else:\n",
    "                menu_task_a(data_list)\n",
    "        elif option==\"3\":\n",
    "            if data_list is None:\n",
    "                print(\"Please load the data first using option 1\")\n",
    "            else: \n",
    "                df = task_b.load_data_pandas(file_path)\n",
    "                menu_task_b(df_main)\n",
    "        elif option==\"4\":\n",
    "            if data_list is None:\n",
    "                print(\"Please load the data first using option 1\")\n",
    "            else:\n",
    "                menu_task_c(df)\n",
    "        elif option==\"5\":\n",
    "            print(\"Exiting the program! Bye Bye !\")\n",
    "            break\n",
    "        else:\n",
    "            print(\"Please select a valid option!\")\n",
    "        \n",
    "             "
   ]
  },
  {
   "cell_type": "code",
   "execution_count": null,
   "id": "c79c89d5-cefe-4292-ae09-56560b9714dd",
   "metadata": {},
   "outputs": [],
   "source": [
    "def menu_task_a(data_list):\n",
    "    while True:\n",
    "        print(\"\\n----MENU----\")\n",
    "        print(\"1. Retrieve Patient's Info (Age, Gender, Smoking history and Ethnicity)\")\n",
    "        print(\"2. Retrieve Medical History based on Ethnicity\")\n",
    "        print(\"3. Retrieve Treatment details for patients who survived more than 100 months\")\n",
    "        print(\"4. Retrieve Cancer stage and more info for young patients(<30) with \")\n",
    "        print(\"5. EXIT\")\n",
    "        choice = input(\"Please choose one option\")\n",
    "        if choice == \"1\":\n",
    "            if data_list:\n",
    "                patient_id = input(\"Please enter the Patient ID:\")\n",
    "                result = task_a.retrieve_patient_info(data_list, patient_id)\n",
    "                print(result)\n",
    "            else:\n",
    "                print(\"Please load the data first!\")\n",
    "        elif choice ==\"2\":\n",
    "            if data_list:\n",
    "                ethnicity = input(\"Please enter the ethnicity\")\n",
    "                result = task_a.retrieve_medical_history_by_ethnicity(ethnicity, data_list)\n",
    "                print(result)\n",
    "            else:\n",
    "                print(\"Please load the data first!\")\n",
    "\n",
    "        elif choice == \"3\":\n",
    "            if data_list:\n",
    "                treatment_details = input(\"Please enter the Treatment Details\")\n",
    "                result = task_a.retrieve_treatment_details(data_list, treatment_details)\n",
    "                print(result)\n",
    "            else:\n",
    "                print(\"Please load the data first!\")\n",
    "        elif choice == \"4\":\n",
    "            if data_list:\n",
    "                result = task_a.Cancer_stage_for_young_with_comorbidity(data_list)\n",
    "                print(result)\n",
    "            else:\n",
    "                print(\"Please load the data first!\")\n",
    "        elif choice == \"5\":\n",
    "            print(\"Closing the Program\")\n",
    "            break\n",
    "    \n",
    "        else:\n",
    "            print(\"INVALID CHOICE! Please enter the correct input\")\n"
   ]
  },
  {
   "cell_type": "code",
   "execution_count": null,
   "id": "f9bd0e3d-200e-4fcd-a00f-615aee81af95",
   "metadata": {},
   "outputs": [],
   "source": [
    "menu_task_b(df_main)"
   ]
  },
  {
   "cell_type": "code",
   "execution_count": null,
   "id": "a92e7d30-af3c-4a57-9db5-a547be9a92a1",
   "metadata": {},
   "outputs": [],
   "source": [
    "menu_task_c()"
   ]
  }
 ],
 "metadata": {
  "kernelspec": {
   "display_name": "COM731",
   "language": "python",
   "name": "com731"
  },
  "language_info": {
   "codemirror_mode": {
    "name": "ipython",
    "version": 3
   },
   "file_extension": ".py",
   "mimetype": "text/x-python",
   "name": "python",
   "nbconvert_exporter": "python",
   "pygments_lexer": "ipython3",
   "version": "3.10.14"
  }
 },
 "nbformat": 4,
 "nbformat_minor": 5
}
