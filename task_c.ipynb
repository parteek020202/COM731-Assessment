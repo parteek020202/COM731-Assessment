{
 "cells": [
  {
   "cell_type": "code",
   "execution_count": 1,
   "id": "afde0de0-ebad-4b1c-ad7c-f1460728d1da",
   "metadata": {},
   "outputs": [],
   "source": [
    "import csv\n",
    "import pandas as pd\n",
    "import matplotlib.pyplot as plt\n"
   ]
  },
  {
   "cell_type": "code",
   "execution_count": 2,
   "id": "d2815c5c-9b3a-4cb3-a04c-a3f3cd5762b8",
   "metadata": {},
   "outputs": [],
   "source": [
    "def treatment_proportion_by_ethnicity(df_main, ethnicity):\n",
    "    try:\n",
    "        df_ethnicity = df_main.loc[df_main[\"Ethnicity\"]==ethnicity]\n",
    "        df_treatments = df_ethnicity[\"Treatment\"].value_counts()\n",
    "        treatment_labels = df_treatments.index.tolist()\n",
    "        treatment_number = df_treatments.tolist()\n",
    "        fig = plt.figure(figsize =(10,6))\n",
    "        plt.pie(treatment_number,labels = treatment_labels, autopct = \"%1.1f%%\")\n",
    "        plt.title(f\"Proportion of Treatments for Ethnicity: {ethnicity}\")\n",
    "        plt.legend(loc = \"best\")\n",
    "        plt.show()\n",
    "    except Exception as e:\n",
    "        print(f\"An error has occured:{e}\")"
   ]
  },
  {
   "cell_type": "code",
   "execution_count": null,
   "id": "8ae2ee6e-7632-4b6a-9986-6dbed4008d19",
   "metadata": {},
   "outputs": [],
   "source": [
    "def average_smoking_trend(df_main):\n",
    "    df_group = df_main.groupby([\"Stage\",\"Ethnicity\"])[\"Smoking_Pack_Years\"].mean()\n",
    "    cancer_stages = df_group.index.tolist()\n",
    "    smoking_avg = df_group[\"Smoking_Pack_Years\"].tolist()\n"
   ]
  }
 ],
 "metadata": {
  "kernelspec": {
   "display_name": "COM731",
   "language": "python",
   "name": "com731"
  },
  "language_info": {
   "codemirror_mode": {
    "name": "ipython",
    "version": 3
   },
   "file_extension": ".py",
   "mimetype": "text/x-python",
   "name": "python",
   "nbconvert_exporter": "python",
   "pygments_lexer": "ipython3",
   "version": "3.10.14"
  }
 },
 "nbformat": 4,
 "nbformat_minor": 5
}
