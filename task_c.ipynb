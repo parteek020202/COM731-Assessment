{
 "cells": [
  {
   "cell_type": "code",
   "execution_count": 3,
   "id": "afde0de0-ebad-4b1c-ad7c-f1460728d1da",
   "metadata": {},
   "outputs": [],
   "source": [
    "import csv\n",
    "import pandas as pd\n",
    "import matplotlib.pyplot as plt\n",
    "import numpy as np"
   ]
  },
  {
   "cell_type": "code",
   "execution_count": 4,
   "id": "ee1ffa1f-2197-47ad-91b7-f6523fbfeb0d",
   "metadata": {},
   "outputs": [],
   "source": [
    " def load_data_task_c(file_path):\n",
    "     try:\n",
    "         df_main = pd.read_csv(file_path, encoding=\"UTF-8\")\n",
    "         return df_main\n",
    "         \n",
    "     except FileNotFoundError:\n",
    "         print(f\" Error! The File at {file_path} could not be found. Please check the location and try again.\")\n",
    "     except Exception as e:\n",
    "         print(f\"An error has occured while loading the data: {e}\")\n",
    "       "
   ]
  },
  {
   "cell_type": "code",
   "execution_count": 5,
   "id": "d2815c5c-9b3a-4cb3-a04c-a3f3cd5762b8",
   "metadata": {},
   "outputs": [],
   "source": [
    "def treatment_proportion_by_ethnicity(df_main, ethnicity):\n",
    "    try:\n",
    "        df_ethnicity = df_main.loc[df_main[\"Ethnicity\"]==ethnicity]\n",
    "        df_treatments = df_ethnicity[\"Treatment\"].value_counts()\n",
    "        treatment_labels = df_treatments.index.tolist()\n",
    "        treatment_number = df_treatments.tolist()\n",
    "        fig = plt.figure(figsize =(10,6))\n",
    "        plt.pie(treatment_number,labels = treatment_labels, autopct = \"%1.1f%%\")\n",
    "        plt.title(f\"Proportion of Treatments for Ethnicity: {ethnicity}\")\n",
    "        plt.legend(loc = \"best\")\n",
    "        plt.show()\n",
    "    except Exception as e:\n",
    "        print(f\"An error has occured:{e}\")"
   ]
  },
  {
   "cell_type": "code",
   "execution_count": 6,
   "id": "8ae2ee6e-7632-4b6a-9986-6dbed4008d19",
   "metadata": {},
   "outputs": [],
   "source": [
    "def average_smoking_trend(df_main):\n",
    "    try:\n",
    "        df_group = df_main.groupby([\"Stage\",\"Ethnicity\"])[\"Smoking_Pack_Years\"].mean().unstack()\n",
    "        fig = plt.figure(figsize=(15,8))\n",
    "        for ethnicity in df_group.columns:\n",
    "           plt.plot(df_group[ethnicity], df_group.index, marker = 'o', label = ethnicity)\n",
    "        plt.xlabel(\"Average Smoking packs\")\n",
    "        plt.ylabel(\"Cancer Stages\")\n",
    "        plt.title(\"Trend of average smoking packs Across cancer stages by Ethnicity\")\n",
    "        plt.legend(title= \"Ethnicity\", loc = \"best\")\n",
    "        plt.grid(axis = \"both\", linestyle = \"--\", alpha = 0.7)\n",
    "        plt.show()\n",
    "    except Exception as e:\n",
    "        print(f\"An error has occured:{e}\")\n"
   ]
  },
  {
   "cell_type": "code",
   "execution_count": 7,
   "id": "40dd4fb1-f211-44ce-8cef-592c1be89d10",
   "metadata": {},
   "outputs": [],
   "source": [
    "def blood_ppressure_comparison(df_main):\n",
    "    try:\n",
    "        df_group = df_main.groupby(\"Treatment\")[[\"Blood_Pressure_Systolic\", \"Blood_Pressure_Diastolic\", \"Blood_Pressure_Pulse\"]].mean()\n",
    "        x_axis = np.arange(len(df_group))\n",
    "        bar_width =0.2\n",
    "        fig = plt.figure(figsize=(10,6))\n",
    "        plt.bar(x_axis-bar_width, df_group[\"Blood_Pressure_Systolic\"], width = bar_width, label = \"Systolic\", color = \"blue\")\n",
    "        plt.bar(x_axis, df_group[\"Blood_Pressure_Diastolic\"], width = bar_width, label = \"Diastolic\", color = \"green\")\n",
    "        plt.bar(x_axis+bar_width, df_group[\"Blood_Pressure_Pulse\"], width = bar_width, label = \"Pulse\", color = \"red\")\n",
    "        plt.xticks(x_axis, df_group.index, rotation = 45)\n",
    "        plt.xlabel(\"Treatments\")\n",
    "        plt.ylabel(\"Average Blood Pressure\")\n",
    "        plt.title(\"Comparison of Average blood pressure across different treatment types\")\n",
    "        plt.legend()\n",
    "        plt.tight_layout()\n",
    "        plt.show()\n",
    "    except Exception as e:\n",
    "        print(f\"An error has occured:{e}\")"
   ]
  },
  {
   "cell_type": "code",
   "execution_count": 8,
   "id": "cbe9d9e5-4307-4373-86c9-bce0efad16c6",
   "metadata": {},
   "outputs": [],
   "source": [
    "def age_vs_survival_for_treatments(df_main):\n",
    "    try:\n",
    "        plt.figure(figsize=(10,6))\n",
    "        for treatment_name in df_main[\"Traetment\"].unique():\n",
    "            filtered_data = df_main[df_main[\"Treatment\"]==treatment_name]\n",
    "            plt.scatter(filtered_data[\"Age\"], filtered_data[\"Survival_Months\"],label = treatment_name, alpha = 0.6 , edgecolors = 'w', s = 100)\n",
    "            plt.xlabel(\"Age\")\n",
    "            plt.ylabel(\"Survival Rate (In Months)\")\n",
    "            plt.title(\"Age VS Survival rate by Treatment Type\")\n",
    "            plt.legend(title = \"Treatment Type\")\n",
    "            plt.show()\n",
    "    except Exception as e:\n",
    "        print(f\"An error has occured:{e}\")\n",
    "            "
   ]
  },
  {
   "cell_type": "code",
   "execution_count": null,
   "id": "2c30fd13-a3de-49cd-9273-5ab92bc35669",
   "metadata": {},
   "outputs": [],
   "source": []
  }
 ],
 "metadata": {
  "kernelspec": {
   "display_name": "COM731",
   "language": "python",
   "name": "com731"
  },
  "language_info": {
   "codemirror_mode": {
    "name": "ipython",
    "version": 3
   },
   "file_extension": ".py",
   "mimetype": "text/x-python",
   "name": "python",
   "nbconvert_exporter": "python",
   "pygments_lexer": "ipython3",
   "version": "3.10.14"
  }
 },
 "nbformat": 4,
 "nbformat_minor": 5
}
