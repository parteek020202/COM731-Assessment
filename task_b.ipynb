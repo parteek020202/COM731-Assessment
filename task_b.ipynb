{
 "cells": [
  {
   "cell_type": "code",
   "execution_count": 1,
   "id": "235f2a18-709d-4c9c-8aae-bce775b41e2a",
   "metadata": {},
   "outputs": [],
   "source": [
    "import csv\n",
    "import pandas as pd"
   ]
  },
  {
   "cell_type": "code",
   "execution_count": 16,
   "id": "250949ae-c024-4d50-9914-548a76dfe9f9",
   "metadata": {},
   "outputs": [],
   "source": [
    " def load_data_pandas(file_path):\n",
    "     try:\n",
    "         df_main = pd.read_csv(file_path, encoding=\"UTF-8\")\n",
    "         return df_main\n",
    "         \n",
    "     except FileNotFoundError:\n",
    "         print(f\" Error! The File at {file_path} could not be found. Please check the location and try again.\")\n",
    "     except Exception as e:\n",
    "         print(f\"An error has occured while loading the data: {e}\")\n",
    "     return None  "
   ]
  },
  {
   "cell_type": "code",
   "execution_count": 17,
   "id": "52225961-66b1-40ab-869c-ed95e3d2a625",
   "metadata": {},
   "outputs": [],
   "source": [
    "def top_3_treatments(df_main, ethnicity):\n",
    "    try:\n",
    "        df_ethnicity_survival = df_main.loc[(df_main[\"Ethnicity\"]==ethnicity) & (df_main[\"Survival_Months\"]>100)]\n",
    "        top_treatments = (df_filtered[\"Treatment\"].value_counts().head(3))\n",
    "        return top_treatments\n",
    "        \n",
    "    except Exception as e:\n",
    "        print(f\"An error occurred: {e}\")\n",
    "        return None"
   ]
  },
  {
   "cell_type": "code",
   "execution_count": 18,
   "id": "a51e733c-1982-4e4d-b043-68822b5f0170",
   "metadata": {},
   "outputs": [],
   "source": [
    "def average_wbc(df_main, ethnicity, treatment):\n",
    "    try:\n",
    "        df_ethnicity_treatment = df_main.loc[(df_main[\"Ethnicity\"]==ethnicity) & (df_main[\"Treatment\"]==treatment)]\n",
    "        df_avg_wbc = df_ethnicity_treatment[\"White_Blood_Cell_Count\"].mean()\n",
    "        return df_avg_wbc\n",
    "        \n",
    "    except Exception as e:\n",
    "        print(f\"An error occurred: {e}\")\n",
    "        return None"
   ]
  },
  {
   "cell_type": "code",
   "execution_count": 19,
   "id": "32a18629-264a-4330-b9be-ee2ea072a163",
   "metadata": {},
   "outputs": [],
   "source": [
    "def average_smoking_packs(df_main, tumor_location):\n",
    "    try:\n",
    "        df_bp_tumor = df_main.loc[(df_main[\"Blood_Pressure_Pulse\"]>90) & (df_main[\"Tumor_Size_mm\"]<15) & (df_main[\"Tumor_Location\"] == tumor_location)]\n",
    "        df_avg_smoking_packs = df_bp_tumor.groupby(\"Treatment\")[\"Smoking_Pack_Years\"].mean()\n",
    "        return df_avg_smoking_packs\n",
    "        \n",
    "    except Exception as e:\n",
    "        print(f\"An error occurred: {e}\")\n",
    "        return None"
   ]
  },
  {
   "cell_type": "code",
   "execution_count": 20,
   "id": "97873de6-6602-4a7c-ba04-aff60841ba4d",
   "metadata": {},
   "outputs": [],
   "source": [
    "def survival_rate_by_treatment(df_main, treatment):\n",
    "    try:\n",
    "        df_treatment = df_main.loc[df_main[\"Treatment\"]==treatment]\n",
    "        df_survival_rate = df_treatment[\"Survival_Months\"].mean()\n",
    "        return df_survival_rate\n",
    "        \n",
    "    except Exception as e:\n",
    "        print(f\"An error occurred: {e}\")\n",
    "        return None"
   ]
  },
  {
   "cell_type": "code",
   "execution_count": null,
   "id": "375ba358-8bc1-4249-8702-5f4aac603c6f",
   "metadata": {},
   "outputs": [],
   "source": []
  },
  {
   "cell_type": "code",
   "execution_count": null,
   "id": "eb970832-6671-4c26-bda4-9202833e86ea",
   "metadata": {},
   "outputs": [],
   "source": []
  }
 ],
 "metadata": {
  "kernelspec": {
   "display_name": "COM731",
   "language": "python",
   "name": "com731"
  },
  "language_info": {
   "codemirror_mode": {
    "name": "ipython",
    "version": 3
   },
   "file_extension": ".py",
   "mimetype": "text/x-python",
   "name": "python",
   "nbconvert_exporter": "python",
   "pygments_lexer": "ipython3",
   "version": "3.10.14"
  }
 },
 "nbformat": 4,
 "nbformat_minor": 5
}
