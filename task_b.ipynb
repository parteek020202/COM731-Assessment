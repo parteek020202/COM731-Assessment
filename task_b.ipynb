{
 "cells": [
  {
   "cell_type": "code",
   "execution_count": 1,
   "id": "235f2a18-709d-4c9c-8aae-bce775b41e2a",
   "metadata": {},
   "outputs": [],
   "source": [
    "import csv\n",
    "import pandas as pd"
   ]
  },
  {
   "cell_type": "code",
   "execution_count": 8,
   "id": "250949ae-c024-4d50-9914-548a76dfe9f9",
   "metadata": {},
   "outputs": [],
   "source": [
    " def load_data_pandas(file_path):\n",
    "     try:\n",
    "         df_main = pd.read_csv(file_path, encoding=\"UTF-8\")\n",
    "         print(\"Data Loaded Successfully!\")\n",
    "         return df_main\n",
    "     except FileNotFoundError:\n",
    "         print(f\" Error! The File at {file_path} could not be found. Please check the location and try again.\")\n",
    "     except Exception as e:\n",
    "         print(f\"An error has occured while loading the data: {e}\")\n",
    "     return None  "
   ]
  },
  {
   "cell_type": "code",
   "execution_count": null,
   "id": "52225961-66b1-40ab-869c-ed95e3d2a625",
   "metadata": {},
   "outputs": [],
   "source": [
    "def top_3_treatments(df_main, ethnicity):\n",
    "    try:\n",
    "        df_ethnicity_survival = df_main.loc[(df_main[\"Ethnicity\"]==ethnicity) & (df_main[\"Survival_Months\"]>100)\n",
    "        top_treatments = (df_filtered[\"Treatment\"].value_counts().head(3))\n",
    "        print(f\"Top 3 treatments for Ethnicity: {ethnicity}\")\n",
    "        print(top_treatments)\n",
    "        return top_treatments\n",
    "    except Exception as e:\n",
    "        print(f\"An error occurred: {e}\")\n",
    "        return None"
   ]
  },
  {
   "cell_type": "code",
   "execution_count": 9,
   "id": "a51e733c-1982-4e4d-b043-68822b5f0170",
   "metadata": {},
   "outputs": [],
   "source": [
    "def average_wbc(df_main, ethnicity, treatment):\n",
    "    try:\n",
    "        df_ethnicity_treatment = df_main.loc[(df_main[\"Ethnicity\"]==ethnicity) & (df_main[\"Treatment\"]==treatment)]\n",
    "        df_avg_wbc = df_ethnicity_treatment[\"White_Blood_Cell_Count\"].mean()\n",
    "        print(f\"Average White blood cell count for Ethnicity:{ethnicity} and Treatment:{treatment} is {df_avg_wbc}\")\n",
    "        return df_avg_wbc\n",
    "    except Exception as e:\n",
    "        print(f\"An error occurred: {e}\")\n",
    "        return None"
   ]
  },
  {
   "cell_type": "code",
   "execution_count": 12,
   "id": "32a18629-264a-4330-b9be-ee2ea072a163",
   "metadata": {},
   "outputs": [],
   "source": [
    "def average_smoking_packs(df_main, tumor_location):\n",
    "    try:\n",
    "        df_bp_tumor = df_main.loc[(df_main[\"Blood_Pressure_Pulse\"]>90) & (df_main[\"Tumor_Size_mm\"]<15) & (df_main[\"Tumor_Location\"] == tumor_location)]\n",
    "        df_avg_smoking_packs = df_bp_tumor.groupby(\"Treatment\")[\"Smoking_Pack_Years\"].mean()\n",
    "        print(f\"Average Smoking packs for the patients with tumor location: {tumor_location}:\")\n",
    "        print(df_avg_smoking_packs)\n",
    "        return df_avg_smoking_packs\n",
    "    except Exception as e:\n",
    "        print(f\"An error occurred: {e}\")\n",
    "        return None"
   ]
  },
  {
   "cell_type": "code",
   "execution_count": null,
   "id": "97873de6-6602-4a7c-ba04-aff60841ba4d",
   "metadata": {},
   "outputs": [],
   "source": [
    "def survival_rate_by_treatment(df_main, treatment):\n",
    "    try:\n",
    "        df_treatment = df_main.loc[df_main[\"Treatment\"]==treatment]\n",
    "        df_survival_rate = df_treatment[\"Survival_Months\"].mean()\n",
    "        print(f\"Patients survived for an average of {df_survival_rate} with the treatment:{treatment}\")\n",
    "        return df_survival_rate\n",
    "    except Exception as e:\n",
    "        print(f\"An error occurred: {e}\")\n",
    "        return None"
   ]
  }
 ],
 "metadata": {
  "kernelspec": {
   "display_name": "COM731",
   "language": "python",
   "name": "com731"
  },
  "language_info": {
   "codemirror_mode": {
    "name": "ipython",
    "version": 3
   },
   "file_extension": ".py",
   "mimetype": "text/x-python",
   "name": "python",
   "nbconvert_exporter": "python",
   "pygments_lexer": "ipython3",
   "version": "3.10.14"
  }
 },
 "nbformat": 4,
 "nbformat_minor": 5
}
