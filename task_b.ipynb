{
 "cells": [
  {
   "cell_type": "code",
   "execution_count": 1,
   "id": "235f2a18-709d-4c9c-8aae-bce775b41e2a",
   "metadata": {},
   "outputs": [],
   "source": [
    "import csv\n",
    "import pandas as pd"
   ]
  },
  {
   "cell_type": "code",
   "execution_count": 2,
   "id": "250949ae-c024-4d50-9914-548a76dfe9f9",
   "metadata": {},
   "outputs": [],
   "source": [
    " def load_data_pandas(file_path): #loads function using the file path entered during first step data loading\n",
    "     #user does not need to enter the file path or name again\n",
    "     try:\n",
    "         df_main = pd.read_csv(file_path, encoding=\"UTF-8\")\n",
    "         return df_main #returns the main dataframe which will be passed as a parameter to all the functions and used throughout the program\n",
    "         \n",
    "     except FileNotFoundError: #if the file is not present or path is incorrect\n",
    "         print(f\" Error! The File at {file_path} could not be found. Please check the location and try again.\")\n",
    "     except Exception as e:\n",
    "         print(f\"An error has occured while loading the data: {e}\") #if there is any other error\n",
    "     return None  "
   ]
  },
  {
   "cell_type": "code",
   "execution_count": 3,
   "id": "52225961-66b1-40ab-869c-ed95e3d2a625",
   "metadata": {},
   "outputs": [],
   "source": [
    "def top_3_treatments(df_main, ethnicity):\n",
    "    try:\n",
    "        ethnicity = ethnicity.strip().lower() # .strip() removes the extra spaces and .lower() makes the input lower to tackle case insensitivity\n",
    "        df_main[\"Ethnicity\"]= df_main[\"Ethnicity\"].str.lower() #converts the values in ethnicity column into str and lowercase so that it matches the input\n",
    "        df_ethnicity_survival = df_main.loc[(df_main[\"Ethnicity\"]==ethnicity) & (df_main[\"Survival_Months\"]>100)] \n",
    "        #makes a new series where only that data is present which meets our conditions\n",
    "        \n",
    "        top_treatments = (df_ethnicity_survival[\"Treatment\"].value_counts().head(3)) # .value_counts() automatically sorts the values in descending order\n",
    "        \n",
    "        if top_treatments.empty: #in case the data is not available \n",
    "            return f\"No top treatments found for the Ehnicity {ethnicity} where Survival months > 100\" \n",
    "            \n",
    "        clear_result = \"\\n\".join([f\"{treatment}: {count}\" for treatment, count in top_treatments.items()]) \n",
    "        #display the result in a clean and easy to read format\n",
    "        return clear_result\n",
    "        \n",
    "    except Exception as e: #if there is any error\n",
    "        print(f\"An error occurred: {e}\")\n",
    "        return None"
   ]
  },
  {
   "cell_type": "code",
   "execution_count": 4,
   "id": "a51e733c-1982-4e4d-b043-68822b5f0170",
   "metadata": {},
   "outputs": [],
   "source": [
    "def average_wbc(df_main, ethnicity, treatment):\n",
    "    try:\n",
    "        ethnicity = ethnicity.strip().lower() # .strip() removes the extra spaces and .lower() makes the input lower to tackle case insensitivity\n",
    "        treatment = treatment.strip().lower()\n",
    "        df_main[\"Ethnicity\"]= df_main[\"Ethnicity\"].str.lower() #converts the values in ethnicity column into str and lowercase so that it matches the input\n",
    "        df_main[\"Treatment\"]= df_main[\"Treatment\"].str.lower()\n",
    "        \n",
    "        df_ethnicity_treatment = df_main.loc[(df_main[\"Ethnicity\"]==ethnicity) & (df_main[\"Treatment\"]==treatment)]\n",
    "        #makes a new series where only that data is present which meets our conditions\n",
    "        df_avg_wbc = df_ethnicity_treatment[\"White_Blood_Cell_Count\"].dropna().mean() #dropna() drops the empty values \n",
    "\n",
    "        if pd.isna(df_avg_wbc): #checks if the data is empty and returns the message accordingly\n",
    "            return \"No data available for entered ethnicity & treatment\"\n",
    "        \n",
    "        return f\"Average White blood cell count for Ethnicity:{ethnicity} and Treatment:{treatment} is {df_avg_wbc:.2f}\"\n",
    "        #display a clear and easy to read result \n",
    "        \n",
    "    except Exception as e:\n",
    "        print(f\"An error occurred: {e}\") #prints error message accordingly\n",
    "        return None "
   ]
  },
  {
   "cell_type": "code",
   "execution_count": 5,
   "id": "32a18629-264a-4330-b9be-ee2ea072a163",
   "metadata": {},
   "outputs": [],
   "source": [
    "def average_smoking_packs(df_main, tumor_location):\n",
    "    try:\n",
    "        tumor_location = tumor_location.strip().lower() # .strip() removes the extra spaces and .lower() makes the input lower to tackle case insensitivity\n",
    "        df_main[\"Tumor_Location\"] = df_main[\"Tumor_Location\"].str.lower() #converts the values in ethnicity column into str and lowercase so that it matches the input\n",
    "        \n",
    "        df_bp_tumor = df_main.loc[(df_main[\"Blood_Pressure_Pulse\"]>90) & (df_main[\"Tumor_Size_mm\"]<15) & (df_main[\"Tumor_Location\"] == tumor_location)]\n",
    "        #makes a new series where only that data is present which meets our conditions\n",
    "        df_avg_smoking_packs = df_bp_tumor.groupby(\"Treatment\")[\"Smoking_Pack_Years\"].mean()\n",
    "        #groups the data based on treatments and then shows the average smoking packs for each treatment\n",
    "        \n",
    "        if df_avg_smoking_packs.size==0: #checks if the series is empty \n",
    "            return \"No data found for entered tumor location\"\n",
    "        \n",
    "        clear_result = \"\\n\".join([f\"{treatment}: {avg_packs:.2f}\" for treatment,avg_packs in df_avg_smoking_packs.items()])\n",
    "        return f\"Average Smoking packs for Tumor Location:{tumor_location}:\\n{clear_result}\"  #displays a clear and easy to read result\n",
    "        \n",
    "    except Exception as e:\n",
    "        print(f\"An error occurred: {e}\") #prints error message accordingly\n",
    "        return None"
   ]
  },
  {
   "cell_type": "code",
   "execution_count": 6,
   "id": "97873de6-6602-4a7c-ba04-aff60841ba4d",
   "metadata": {},
   "outputs": [],
   "source": [
    "def survival_rate_by_treatment(df_main, treatment):\n",
    "    try:\n",
    "        treatment = treatment.strip().lower() # .strip() removes the extra spaces and .lower() makes the input lower to tackle case insensitivity\n",
    "        df_main[\"Treatment\"] = df_main[\"Treatment\"].str.lower() #converts the values in ethnicity column into str and lowercase so that it matches the input\n",
    "        df_treatment = df_main.loc[df_main[\"Treatment\"]==treatment]\n",
    "        #makes a new series where only that data is present which meets our conditions\n",
    "        \n",
    "        df_survival_rate = df_treatment[\"Survival_Months\"].dropna().mean() #drops the empty values and then calculates the mean\n",
    "        if pd.isna(df_survival_rate): #checks if the data is empty \n",
    "            return \"No data available for provided treatment\"\n",
    "            \n",
    "        return f\"Patients survived for an average of {df_survival_rate:.2f} with the treatment:{treatment}\" #returns an easy to read result\n",
    "        \n",
    "    except Exception as e:\n",
    "        print(f\"An error occurred: {e}\") #prints error message accordingly\n",
    "        return None"
   ]
  },
  {
   "cell_type": "code",
   "execution_count": null,
   "id": "375ba358-8bc1-4249-8702-5f4aac603c6f",
   "metadata": {},
   "outputs": [],
   "source": []
  },
  {
   "cell_type": "code",
   "execution_count": null,
   "id": "eb970832-6671-4c26-bda4-9202833e86ea",
   "metadata": {},
   "outputs": [],
   "source": []
  }
 ],
 "metadata": {
  "kernelspec": {
   "display_name": "COM731",
   "language": "python",
   "name": "com731"
  },
  "language_info": {
   "codemirror_mode": {
    "name": "ipython",
    "version": 3
   },
   "file_extension": ".py",
   "mimetype": "text/x-python",
   "name": "python",
   "nbconvert_exporter": "python",
   "pygments_lexer": "ipython3",
   "version": "3.10.14"
  }
 },
 "nbformat": 4,
 "nbformat_minor": 5
}
