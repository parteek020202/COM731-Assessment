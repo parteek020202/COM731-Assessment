{
 "cells": [
  {
   "cell_type": "code",
   "execution_count": 5,
   "id": "e408b3e9-3346-4cd5-8f79-04573052a049",
   "metadata": {},
   "outputs": [],
   "source": [
    "import csv "
   ]
  },
  {
   "cell_type": "code",
   "execution_count": 4,
   "id": "91e59e01-8535-4228-ae25-3b0b57608ba9",
   "metadata": {},
   "outputs": [],
   "source": [
    "def load_data(file_path):\n",
    "    try:\n",
    "        with open(file_path, mode = 'r', encoding = 'UTF-8') as file:\n",
    "            csv_reader = csv.reader(file)\n",
    "            data_list = list(csv_reader)\n",
    "        return data_list\n",
    "\n",
    "    except FileNotFoundError:\n",
    "        print(\"File not found! please enter the correct path/name.\")\n",
    "        return None\n",
    "    except Exception as e:\n",
    "        print(f\"An error occured: {e}\")\n",
    "        return None"
   ]
  },
  {
   "cell_type": "code",
   "execution_count": 6,
   "id": "58e39365-f164-449a-a01e-cac0646fc062",
   "metadata": {},
   "outputs": [],
   "source": [
    "def retrieve_patient_info(data_list, patient_id):\n",
    "    try:\n",
    "        header =data_list[0]\n",
    "        rows = data_list[1:]\n",
    "        for row in rows:\n",
    "            row_dictionary = dict(zip(header,row))\n",
    "            if row_dictionary.get(\"Patient_ID\") == patient_id:\n",
    "                return{\n",
    "                    \"Age\":row_dictionary.get(\"Age\"),\n",
    "                    \"Gender\":row_dictionary.get(\"Gender\"),\n",
    "                    \"Smoking_History\":row_dictionary.get(\"Smoking_History\"),\n",
    "                    \"Ethnicity\":row_dictionary.get(\"Ethnicity\")\n",
    "                }\n",
    "    except ValueError as e:\n",
    "        print(f\"Error processing the data: {e}\")\n",
    "        return \"No match found!\""
   ]
  },
  {
   "cell_type": "code",
   "execution_count": 9,
   "id": "bb642f46-819c-46ca-8c2a-7facc12ccdc0",
   "metadata": {},
   "outputs": [],
   "source": [
    "def retrieve_medical_history_by_ethnicity(ethnicity, data_list):\n",
    "    try:\n",
    "        header  = data_list[0]\n",
    "        rows = data_list[1:]\n",
    "        result= []\n",
    "        for row in rows:\n",
    "            row_dictionary = dict(zip(header, row))\n",
    "            if row_dictionary.get(\"Ethnicity\") == ethnicity:\n",
    "                result.append({\n",
    "                    \"Patient ID\": row_dictionary.get(\"Patient ID\"),\n",
    "                    \"Family_History\": row_dictionary.get(\"Family_History\"),\n",
    "                    \"Comorbidity_Diabetes\": row_dictionary.get(\"Comorbidity_Diabetes\"),\n",
    "                    \"Comorbidity_Kidney_Disease\": row_dictionary.get(\"Comorbidity_Kidney_Disease\"),\n",
    "                    \"Haemoglobin_Level\": row_dictionary.get(\"Haemoglobin_Level\")\n",
    "                })\n",
    "        return result\n",
    "    except Exception as e:\n",
    "        print(f\"An error occured: {e}\")\n",
    "        return None\n",
    "                "
   ]
  },
  {
   "cell_type": "code",
   "execution_count": 4,
   "id": "06c61083-2bf9-4af4-a06d-48c158f7fb40",
   "metadata": {},
   "outputs": [],
   "source": [
    "def retrieve_treatment_details(data_list, treatment_details):\n",
    "    try:\n",
    "        result=[]\n",
    "        header = data_list[0]\n",
    "        rows = data_list[1:]\n",
    "        for row in rows:\n",
    "            row_dictionary = dict(zip(header,row))\n",
    "            survival_months = int(row_dictionary.get(\"Survival_Months\",0))\n",
    "            if survival_months>100 and row_dictionary.get(\"Treatment\") == treatment_details:\n",
    "                result.append({\n",
    "                    \"Age\":row_dictionary.get(\"Age\"),\n",
    "                    \"Tumor Size\":row_dictionary.get(\"Tumor_Size_mm\"),\n",
    "                    \"Tumor Location\":row_dictionary.get(\"Tumor_Location\"),\n",
    "                    \"Tumor Stage\":row_dictionary.get(\"Stage\"),\n",
    "                    \"Months Survived\":row_dictionary.get(\"Survival_Months\")\n",
    "                })\n",
    "        return result if result else \"No Records Found!\"\n",
    "    except Exception as e:\n",
    "        print(f\"An error occured: {e}\")\n",
    "        return None"
   ]
  },
  {
   "cell_type": "code",
   "execution_count": 5,
   "id": "e34d6f02-b12d-4ed7-a5fe-a2f0b9e97964",
   "metadata": {},
   "outputs": [],
   "source": [
    "def Cancer_stage_for_young_with_comorbidity(data_list):\n",
    "    try:\n",
    "        comorbidity= input(\"Enter Comorbidity: Diabetes/Kidney\").strip().capitalize()\n",
    "        if comorbidity not in[\"Diabetes\", \"Kidney\"]:\n",
    "            print(\" Invalid Choice, Please Select one: Diabetes/Kidney\")\n",
    "            return None\n",
    "        comorbidity_column = \"Comorbidity_Diabetes\" if comorbidity == \"Diabetes\" else \"Comorbidity_Kidney_Disease\"\n",
    "        header= data_list[0]\n",
    "        rows = data_list[1:]\n",
    "        result=[]\n",
    "        \n",
    "        for row in rows:\n",
    "            row_dictionary= dict(zip(header,row))\n",
    "            Age = int(row_dictionary.get(\"Age\",0))\n",
    "            if row_dictionary.get(comorbidity_column) == \"Yes\" and Age<30:\n",
    "                result.append({\n",
    "                    \"Age\": row_dictionary.get(\"Age\"),\n",
    "                    \"Cancer Stage\": row_dictionary.get(\"Stage\"),\n",
    "                    \"Months Survived\":row_dictionary.get(\"Survival_Months\")\n",
    "                })\n",
    "        return result if result else \"No Records Found\"\n",
    "    except Exception as e:\n",
    "        print(f\"An error occured: {e}\")\n",
    "        return None"
   ]
  },
  {
   "cell_type": "code",
   "execution_count": null,
   "id": "48015649-1528-4300-b1d3-4cd80b1305a4",
   "metadata": {},
   "outputs": [],
   "source": []
  }
 ],
 "metadata": {
  "kernelspec": {
   "display_name": "COM731",
   "language": "python",
   "name": "com731"
  },
  "language_info": {
   "codemirror_mode": {
    "name": "ipython",
    "version": 3
   },
   "file_extension": ".py",
   "mimetype": "text/x-python",
   "name": "python",
   "nbconvert_exporter": "python",
   "pygments_lexer": "ipython3",
   "version": "3.10.14"
  }
 },
 "nbformat": 4,
 "nbformat_minor": 5
}
