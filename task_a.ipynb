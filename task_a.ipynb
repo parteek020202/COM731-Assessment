{
 "cells": [
  {
   "cell_type": "code",
   "execution_count": 1,
   "id": "e408b3e9-3346-4cd5-8f79-04573052a049",
   "metadata": {},
   "outputs": [],
   "source": [
    "import csv "
   ]
  },
  {
   "cell_type": "code",
   "execution_count": 1,
   "id": "91e59e01-8535-4228-ae25-3b0b57608ba9",
   "metadata": {},
   "outputs": [],
   "source": [
    "def load_data(file_path):\n",
    "    try:\n",
    "        with open(file_path, mode = 'r', encoding = 'UTF-8') as file:\n",
    "            csv_reader = csv.reader(file)\n",
    "            data_list = list(csv_reader)\n",
    "        return data_list\n",
    "\n",
    "    except FileNotFoundError:\n",
    "        print(\"File not found! please enter the correct path/name.\")\n",
    "        return None\n",
    "    except Exception as e:\n",
    "        print(f\"An error occured: {e}\")\n",
    "        return None"
   ]
  },
  {
   "cell_type": "code",
   "execution_count": 3,
   "id": "58e39365-f164-449a-a01e-cac0646fc062",
   "metadata": {},
   "outputs": [],
   "source": [
    "def retrieve_patient_info(data_list, patient_id):\n",
    "    try:\n",
    "        header =data_list[0]\n",
    "        rows = data_list[1:]\n",
    "        for row in rows:\n",
    "            row_dictionary = dict(zip(header,row))\n",
    "            if row_dictionary.get(\"Patient_ID\") == patient_id:\n",
    "                return{\n",
    "                    \"Age\":row_dictionary.get(\"Age\"),\n",
    "                    \"Gender\":row_dictionary.get(\"Gender\"),\n",
    "                    \"Smoking_History\":row_dictionary.get(\"Smoking_History\"),\n",
    "                    \"Ethnicity\":row_dictionary.get(\"Ethnicity\")\n",
    "                }\n",
    "        \n",
    "        return \"No match found!\"\n",
    "    except ValueError as e:\n",
    "        print(f\"Error processing the data: {e}\")\n",
    "                "
   ]
  },
  {
   "cell_type": "code",
   "execution_count": null,
   "id": "bb642f46-819c-46ca-8c2a-7facc12ccdc0",
   "metadata": {},
   "outputs": [],
   "source": []
  }
 ],
 "metadata": {
  "kernelspec": {
   "display_name": "COM731",
   "language": "python",
   "name": "com731"
  },
  "language_info": {
   "codemirror_mode": {
    "name": "ipython",
    "version": 3
   },
   "file_extension": ".py",
   "mimetype": "text/x-python",
   "name": "python",
   "nbconvert_exporter": "python",
   "pygments_lexer": "ipython3",
   "version": "3.10.14"
  }
 },
 "nbformat": 4,
 "nbformat_minor": 5
}
