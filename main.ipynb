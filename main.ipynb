{
 "cells": [
  {
   "cell_type": "code",
   "execution_count": null,
   "id": "031fce59-87cb-4395-82f6-3bd3418ad774",
   "metadata": {
    "scrolled": true
   },
   "outputs": [
    {
     "name": "stdout",
     "output_type": "stream",
     "text": [
      "\n",
      "----MAIN MENU----\n",
      "1. Load Data (REQUIRED)\n",
      "2. Retrieve general Information about the patients (TASK A: Basic python functions)\n",
      "3. Load and Analyse the Data (TASK B: Using pandas)\n",
      "4. Visualise the Data (TASK C: Using matplotlib)\n",
      "5. Exit the program\n"
     ]
    },
    {
     "name": "stdin",
     "output_type": "stream",
     "text": [
      "Please choose one option:  2\n"
     ]
    },
    {
     "name": "stdout",
     "output_type": "stream",
     "text": [
      "Please load the data first using option 1\n",
      "\n",
      "----MAIN MENU----\n",
      "1. Load Data (REQUIRED)\n",
      "2. Retrieve general Information about the patients (TASK A: Basic python functions)\n",
      "3. Load and Analyse the Data (TASK B: Using pandas)\n",
      "4. Visualise the Data (TASK C: Using matplotlib)\n",
      "5. Exit the program\n"
     ]
    }
   ],
   "source": [
    "import menu\n",
    "def main():\n",
    "    menu.main_menu()\n",
    "\n",
    "if __name__== \"__main__\":\n",
    "    main()"
   ]
  },
  {
   "cell_type": "code",
   "execution_count": null,
   "id": "fba53d18-1bbc-4cdc-b71a-9553668ed457",
   "metadata": {},
   "outputs": [],
   "source": []
  }
 ],
 "metadata": {
  "kernelspec": {
   "display_name": "COM731",
   "language": "python",
   "name": "com731"
  },
  "language_info": {
   "codemirror_mode": {
    "name": "ipython",
    "version": 3
   },
   "file_extension": ".py",
   "mimetype": "text/x-python",
   "name": "python",
   "nbconvert_exporter": "python",
   "pygments_lexer": "ipython3",
   "version": "3.10.14"
  }
 },
 "nbformat": 4,
 "nbformat_minor": 5
}
